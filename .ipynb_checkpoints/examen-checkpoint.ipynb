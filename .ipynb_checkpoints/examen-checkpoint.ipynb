{
 "cells": [
  {
   "cell_type": "code",
   "execution_count": 37,
   "metadata": {},
   "outputs": [],
   "source": [
    "#pip install beautifulsoup4\n",
    "import bs4\n",
    "from bs4 import BeautifulSoup as soup\n",
    "from urllib.request import Request, urlopen\n",
    "import requests"
   ]
  },
  {
   "cell_type": "code",
   "execution_count": 87,
   "metadata": {},
   "outputs": [
    {
     "name": "stdout",
     "output_type": "stream",
     "text": [
      "******************************************************\n",
      "<div class=\"BNeawe vvjwJb AP7Wnd\">Aprueban informe para debate de Ley de Comunicación</div>\n",
      "None\n",
      "<div class=\"BNeawe vvjwJb AP7Wnd\">Gobierno marca presión a la Asamblea por leyes anticorrupción ...</div>\n",
      "None\n",
      "<div class=\"BNeawe vvjwJb AP7Wnd\">Correismo: ya hay candidatos a asambleístas en Azuay | Diario El ...</div>\n",
      "None\n",
      "<div class=\"BNeawe vvjwJb AP7Wnd\">Tributo del 2% a activos de empresas de paraísos fiscales está ...</div>\n",
      "None\n",
      "<div class=\"BNeawe vvjwJb AP7Wnd\">La Comisión de Fiscalización recomendará juicio a Romo | Diario El ...</div>\n",
      "None\n",
      "<div class=\"BNeawe vvjwJb AP7Wnd\">Lloret oficializó el pedido de juicio político al Ministro de Finanzas</div>\n",
      "None\n",
      "<div class=\"BNeawe vvjwJb AP7Wnd\">El correísmo anuncia que buscará un juicio político en contra de ...</div>\n",
      "None\n",
      "<div class=\"BNeawe vvjwJb AP7Wnd\">Preocupación en Azuay y el Austro por el centralismo de la sede de ...</div>\n",
      "None\n",
      "<div class=\"BNeawe vvjwJb AP7Wnd\">Asambleísta Juan Cristóbal Lloret propone norma contra cobros ...</div>\n",
      "None\n",
      "<div class=\"BNeawe vvjwJb AP7Wnd\">Responsabilidad política</div>\n",
      "None\n"
     ]
    }
   ],
   "source": [
    "url = \"https://www.google.com/search?q=juan+crist%C3%B3bal+lloret&hl=es&sxsrf=ALeKk003iUbQ29XU00-Hmiwu9_0t_zx-OA:1607487353447&source=lnms&tbm=nws&sa=X&ved=2ahUKEwjvlruFhcDtAhVm0FkKHQIzCX4Q_AUoA3oECAQQBQ&biw=768&bih=724\"\n",
    "\n",
    "req = Request(url, headers={'User-Agent': 'Mozilla/5.0'})\n",
    "html_doc = urlopen(req).read()\n",
    "\n",
    "with requests.Session() as c:\n",
    "    soupp = soup(html_doc, 'html5lib')\n",
    "    #print(soupp.prettify())\n",
    "    #l = soupp.find('title')\n",
    "    #print(str(l).replace(\" - Buscar con Google\", \" \").replace(\"<title>\",\"\").replace(\"</title>\", \"\"))\n",
    "    #h = soupp.findAll('div', 'JheGif nDgy9d')\n",
    "    print(\"******************************************************\")\n",
    "    for item in soupp.find_all('div', 'kCrYT'):\n",
    "        title = (item.find(\"div\", \"BNeawe vvjwJb AP7Wnd\"))\n",
    "        raw_link = (item.find('a', href=True)['href'])\n",
    "        link = (raw_link.split(\"/url?q=\")[1]).split('&sa=U&')[0]\n",
    "        #print(item)\n",
    "        print(title)\n",
    "        #print(link)\n",
    "\n"
   ]
  },
  {
   "cell_type": "code",
   "execution_count": 76,
   "metadata": {},
   "outputs": [
    {
     "name": "stdout",
     "output_type": "stream",
     "text": [
      "Aprueban informe para debate de Ley de Comunicación\n",
      "Gobierno marca presión a la Asamblea por leyes anticorrupción ...\n",
      "Correismo: ya hay candidatos a asambleístas en Azuay | Diario El ...\n",
      "Tributo del 2% a activos de empresas de paraísos fiscales está ...\n",
      "La Comisión de Fiscalización recomendará juicio a Romo | Diario El ...\n",
      "Lloret oficializó el pedido de juicio político al Ministro de Finanzas\n",
      "El correísmo anuncia que buscará un juicio político en contra de ...\n",
      "Preocupación en Azuay y el Austro por el centralismo de la sede de ...\n",
      "Asambleísta Juan Cristóbal Lloret propone norma contra cobros ...\n",
      "Responsabilidad política\n"
     ]
    }
   ],
   "source": [
    "    for i in aa:\n",
    "        print(str(i).replace('<div class=\"BNeawe vvjwJb AP7Wnd\">', \"\").replace(\"</div>\", \"\"))"
   ]
  },
  {
   "cell_type": "code",
   "execution_count": 40,
   "metadata": {},
   "outputs": [],
   "source": []
  },
  {
   "cell_type": "code",
   "execution_count": null,
   "metadata": {},
   "outputs": [],
   "source": []
  },
  {
   "cell_type": "code",
   "execution_count": null,
   "metadata": {},
   "outputs": [],
   "source": []
  }
 ],
 "metadata": {
  "kernelspec": {
   "display_name": "Python 3",
   "language": "python",
   "name": "python3"
  },
  "language_info": {
   "codemirror_mode": {
    "name": "ipython",
    "version": 3
   },
   "file_extension": ".py",
   "mimetype": "text/x-python",
   "name": "python",
   "nbconvert_exporter": "python",
   "pygments_lexer": "ipython3",
   "version": "3.8.3"
  }
 },
 "nbformat": 4,
 "nbformat_minor": 4
}
